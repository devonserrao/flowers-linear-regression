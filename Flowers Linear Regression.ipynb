{
 "cells": [
  {
   "cell_type": "code",
   "execution_count": null,
   "metadata": {},
   "outputs": [],
   "source": [
    "# Project 3\n",
    "# Beautifying the Flowers\n",
    "# This project is for a bit data manipulation and visualization and applying Linear\n",
    "# Regression on a data set. Here we are using dataset as iris.csv.\n",
    "\n",
    "# This also has some requirements:\n",
    "# 1. Import pandas , matplotlib , seaborn ,sklearn libraries\n",
    "# 2. Read csv file named as iris.csv\n",
    "# 3. Show first five records\n",
    "# 4. Show a dataframe which has sepalwidth greater than 4\n",
    "# 5. Show a dataframe which has petalwidth greater than 1\n",
    "# 6. Reterive records which have petalwidth more than 2\n",
    "# 7. Try to know the relationship between sepallength and petallength and draw a\n",
    "# scatter plot between them and show the relationship between them\n",
    "# 8. Now apply species as hue in the same scatter plot for better visibility and\n",
    "# understanding"
   ]
  },
  {
   "cell_type": "code",
   "execution_count": 2,
   "metadata": {},
   "outputs": [],
   "source": [
    "# 1. Import pandas , matplotlib , seaborn ,sklearn libraries\n",
    "\n",
    "import pandas as pd\n",
    "import matplotlib.pyplot as plt\n",
    "import numpy as np\n",
    "import seaborn as sns\n",
    "import sklearn\n"
   ]
  }
 ],
 "metadata": {
  "kernelspec": {
   "display_name": "Python 3",
   "language": "python",
   "name": "python3"
  },
  "language_info": {
   "codemirror_mode": {
    "name": "ipython",
    "version": 3
   },
   "file_extension": ".py",
   "mimetype": "text/x-python",
   "name": "python",
   "nbconvert_exporter": "python",
   "pygments_lexer": "ipython3",
   "version": "3.7.3"
  }
 },
 "nbformat": 4,
 "nbformat_minor": 2
}
